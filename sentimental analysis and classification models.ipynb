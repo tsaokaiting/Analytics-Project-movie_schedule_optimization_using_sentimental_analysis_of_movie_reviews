{
 "cells": [
  {
   "cell_type": "code",
   "execution_count": 1,
   "metadata": {},
   "outputs": [],
   "source": [
    "import pandas as pd\n",
    "import numpy as np\n",
    "import matplotlib.pyplot as plt\n",
    "from sklearn.model_selection import train_test_split\n",
    "from collections import defaultdict\n",
    "import re\n",
    "\n",
    "import warnings\n",
    "warnings.filterwarnings('ignore')"
   ]
  },
  {
   "cell_type": "code",
   "execution_count": 2,
   "metadata": {
    "scrolled": true
   },
   "outputs": [
    {
     "name": "stdout",
     "output_type": "stream",
     "text": [
      "(59498, 5)\n"
     ]
    },
    {
     "data": {
      "text/html": [
       "<div>\n",
       "<style scoped>\n",
       "    .dataframe tbody tr th:only-of-type {\n",
       "        vertical-align: middle;\n",
       "    }\n",
       "\n",
       "    .dataframe tbody tr th {\n",
       "        vertical-align: top;\n",
       "    }\n",
       "\n",
       "    .dataframe thead th {\n",
       "        text-align: right;\n",
       "    }\n",
       "</style>\n",
       "<table border=\"1\" class=\"dataframe\">\n",
       "  <thead>\n",
       "    <tr style=\"text-align: right;\">\n",
       "      <th></th>\n",
       "      <th>rotten_tomatoes_link</th>\n",
       "      <th>top_critic</th>\n",
       "      <th>review_type</th>\n",
       "      <th>review_rank</th>\n",
       "      <th>review_content</th>\n",
       "    </tr>\n",
       "  </thead>\n",
       "  <tbody>\n",
       "    <tr>\n",
       "      <th>0</th>\n",
       "      <td>m/0814255</td>\n",
       "      <td>False</td>\n",
       "      <td>Rotten</td>\n",
       "      <td>D+</td>\n",
       "      <td>The premise of Percy Jackson &amp; the Olympians: ...</td>\n",
       "    </tr>\n",
       "    <tr>\n",
       "      <th>1</th>\n",
       "      <td>m/0878835</td>\n",
       "      <td>False</td>\n",
       "      <td>Fresh</td>\n",
       "      <td>A-</td>\n",
       "      <td>Funny at times, Please Give is a surprisingly ...</td>\n",
       "    </tr>\n",
       "    <tr>\n",
       "      <th>2</th>\n",
       "      <td>m/1000013-12_angry_men</td>\n",
       "      <td>False</td>\n",
       "      <td>Fresh</td>\n",
       "      <td>B</td>\n",
       "      <td>Lumet keeps things tense, sweaty, suspenseful ...</td>\n",
       "    </tr>\n",
       "  </tbody>\n",
       "</table>\n",
       "</div>"
      ],
      "text/plain": [
       "     rotten_tomatoes_link  top_critic review_type review_rank  \\\n",
       "0               m/0814255       False      Rotten          D+   \n",
       "1               m/0878835       False       Fresh          A-   \n",
       "2  m/1000013-12_angry_men       False       Fresh           B   \n",
       "\n",
       "                                      review_content  \n",
       "0  The premise of Percy Jackson & the Olympians: ...  \n",
       "1  Funny at times, Please Give is a surprisingly ...  \n",
       "2  Lumet keeps things tense, sweaty, suspenseful ...  "
      ]
     },
     "execution_count": 2,
     "metadata": {},
     "output_type": "execute_result"
    }
   ],
   "source": [
    "df = pd.read_csvdf = pd.read_csv('tomato-2011-2020.csv')\n",
    "df = df[['rotten_tomatoes_link','top_critic','review_type', 'review_rank', 'review_content']].dropna()\n",
    "print(df.shape)\n",
    "df.head(3)"
   ]
  },
  {
   "cell_type": "code",
   "execution_count": 3,
   "metadata": {},
   "outputs": [
    {
     "data": {
      "text/html": [
       "<div>\n",
       "<style scoped>\n",
       "    .dataframe tbody tr th:only-of-type {\n",
       "        vertical-align: middle;\n",
       "    }\n",
       "\n",
       "    .dataframe tbody tr th {\n",
       "        vertical-align: top;\n",
       "    }\n",
       "\n",
       "    .dataframe thead th {\n",
       "        text-align: right;\n",
       "    }\n",
       "</style>\n",
       "<table border=\"1\" class=\"dataframe\">\n",
       "  <thead>\n",
       "    <tr style=\"text-align: right;\">\n",
       "      <th></th>\n",
       "      <th>rotten_tomatoes_link</th>\n",
       "      <th>top_critic</th>\n",
       "      <th>review_type</th>\n",
       "      <th>review_rank</th>\n",
       "      <th>review_content</th>\n",
       "      <th>review_score</th>\n",
       "    </tr>\n",
       "  </thead>\n",
       "  <tbody>\n",
       "    <tr>\n",
       "      <th>0</th>\n",
       "      <td>m/0814255</td>\n",
       "      <td>False</td>\n",
       "      <td>Rotten</td>\n",
       "      <td>D+</td>\n",
       "      <td>The premise of Percy Jackson &amp; the Olympians: ...</td>\n",
       "      <td>4</td>\n",
       "    </tr>\n",
       "    <tr>\n",
       "      <th>1</th>\n",
       "      <td>m/0878835</td>\n",
       "      <td>False</td>\n",
       "      <td>Fresh</td>\n",
       "      <td>A-</td>\n",
       "      <td>Funny at times, Please Give is a surprisingly ...</td>\n",
       "      <td>11</td>\n",
       "    </tr>\n",
       "    <tr>\n",
       "      <th>2</th>\n",
       "      <td>m/1000013-12_angry_men</td>\n",
       "      <td>False</td>\n",
       "      <td>Fresh</td>\n",
       "      <td>B</td>\n",
       "      <td>Lumet keeps things tense, sweaty, suspenseful ...</td>\n",
       "      <td>9</td>\n",
       "    </tr>\n",
       "    <tr>\n",
       "      <th>3</th>\n",
       "      <td>m/1000013-12_angry_men</td>\n",
       "      <td>False</td>\n",
       "      <td>Fresh</td>\n",
       "      <td>A</td>\n",
       "      <td>This movie is a masterpiece. That term gets th...</td>\n",
       "      <td>12</td>\n",
       "    </tr>\n",
       "    <tr>\n",
       "      <th>4</th>\n",
       "      <td>m/1000079-20000_leagues_under_the_sea</td>\n",
       "      <td>False</td>\n",
       "      <td>Fresh</td>\n",
       "      <td>B+</td>\n",
       "      <td>A good one that could have been better with a ...</td>\n",
       "      <td>10</td>\n",
       "    </tr>\n",
       "  </tbody>\n",
       "</table>\n",
       "</div>"
      ],
      "text/plain": [
       "                    rotten_tomatoes_link  top_critic review_type review_rank  \\\n",
       "0                              m/0814255       False      Rotten          D+   \n",
       "1                              m/0878835       False       Fresh          A-   \n",
       "2                 m/1000013-12_angry_men       False       Fresh           B   \n",
       "3                 m/1000013-12_angry_men       False       Fresh           A   \n",
       "4  m/1000079-20000_leagues_under_the_sea       False       Fresh          B+   \n",
       "\n",
       "                                      review_content  review_score  \n",
       "0  The premise of Percy Jackson & the Olympians: ...             4  \n",
       "1  Funny at times, Please Give is a surprisingly ...            11  \n",
       "2  Lumet keeps things tense, sweaty, suspenseful ...             9  \n",
       "3  This movie is a masterpiece. That term gets th...            12  \n",
       "4  A good one that could have been better with a ...            10  "
      ]
     },
     "metadata": {},
     "output_type": "display_data"
    }
   ],
   "source": [
    "score = []\n",
    "\n",
    "for row in df['review_rank']:\n",
    "    if row == 'A':\n",
    "        score.append(12)\n",
    "    elif row == 'A-':\n",
    "        score.append(11)\n",
    "    elif row == 'B+':\n",
    "        score.append(10)\n",
    "    elif row == 'B':\n",
    "        score.append(9)\n",
    "    elif row == 'B-':\n",
    "        score.append(8)\n",
    "    elif row == 'C+':\n",
    "        score.append(7)\n",
    "    elif row == 'C':\n",
    "        score.append(6)\n",
    "    elif row == 'C-':\n",
    "        score.append(5)\n",
    "    elif row == 'D+':\n",
    "        score.append(4)\n",
    "    elif row == 'D':\n",
    "        score.append(3)\n",
    "    elif row == 'D-':\n",
    "        score.append(2)\n",
    "    elif row == 'F':\n",
    "        score.append(1)    \n",
    "    else:\n",
    "        score.append(0)\n",
    "\n",
    "df['review_score'] = score\n",
    "display(df.head())"
   ]
  },
  {
   "cell_type": "code",
   "execution_count": 4,
   "metadata": {},
   "outputs": [
    {
     "data": {
      "text/html": [
       "<div>\n",
       "<style scoped>\n",
       "    .dataframe tbody tr th:only-of-type {\n",
       "        vertical-align: middle;\n",
       "    }\n",
       "\n",
       "    .dataframe tbody tr th {\n",
       "        vertical-align: top;\n",
       "    }\n",
       "\n",
       "    .dataframe thead th {\n",
       "        text-align: right;\n",
       "    }\n",
       "</style>\n",
       "<table border=\"1\" class=\"dataframe\">\n",
       "  <thead>\n",
       "    <tr style=\"text-align: right;\">\n",
       "      <th></th>\n",
       "      <th>rotten_tomatoes_link</th>\n",
       "      <th>top_critic</th>\n",
       "      <th>review_type</th>\n",
       "      <th>review_rank</th>\n",
       "      <th>review_content</th>\n",
       "      <th>review_score</th>\n",
       "      <th>sentiment</th>\n",
       "    </tr>\n",
       "  </thead>\n",
       "  <tbody>\n",
       "    <tr>\n",
       "      <th>0</th>\n",
       "      <td>m/0814255</td>\n",
       "      <td>False</td>\n",
       "      <td>Rotten</td>\n",
       "      <td>D+</td>\n",
       "      <td>The premise of Percy Jackson &amp; the Olympians: ...</td>\n",
       "      <td>4</td>\n",
       "      <td>0</td>\n",
       "    </tr>\n",
       "    <tr>\n",
       "      <th>1</th>\n",
       "      <td>m/0878835</td>\n",
       "      <td>False</td>\n",
       "      <td>Fresh</td>\n",
       "      <td>A-</td>\n",
       "      <td>Funny at times, Please Give is a surprisingly ...</td>\n",
       "      <td>11</td>\n",
       "      <td>1</td>\n",
       "    </tr>\n",
       "    <tr>\n",
       "      <th>2</th>\n",
       "      <td>m/1000013-12_angry_men</td>\n",
       "      <td>False</td>\n",
       "      <td>Fresh</td>\n",
       "      <td>B</td>\n",
       "      <td>Lumet keeps things tense, sweaty, suspenseful ...</td>\n",
       "      <td>9</td>\n",
       "      <td>1</td>\n",
       "    </tr>\n",
       "  </tbody>\n",
       "</table>\n",
       "</div>"
      ],
      "text/plain": [
       "     rotten_tomatoes_link  top_critic review_type review_rank  \\\n",
       "0               m/0814255       False      Rotten          D+   \n",
       "1               m/0878835       False       Fresh          A-   \n",
       "2  m/1000013-12_angry_men       False       Fresh           B   \n",
       "\n",
       "                                      review_content  review_score  sentiment  \n",
       "0  The premise of Percy Jackson & the Olympians: ...             4          0  \n",
       "1  Funny at times, Please Give is a surprisingly ...            11          1  \n",
       "2  Lumet keeps things tense, sweaty, suspenseful ...             9          1  "
      ]
     },
     "execution_count": 4,
     "metadata": {},
     "output_type": "execute_result"
    }
   ],
   "source": [
    "# review_type:Fresh turns to 1, Rotten turns to 0\n",
    "df['sentiment'] = np.where(df['review_type'] == 'Fresh', 1, 0)\n",
    "df.head(3)"
   ]
  },
  {
   "cell_type": "code",
   "execution_count": 5,
   "metadata": {},
   "outputs": [],
   "source": [
    "from textblob import TextBlob\n",
    "import nltk\n",
    "from textblob.sentiments import NaiveBayesAnalyzer"
   ]
  },
  {
   "cell_type": "code",
   "execution_count": 6,
   "metadata": {},
   "outputs": [
    {
     "data": {
      "text/html": [
       "<div>\n",
       "<style scoped>\n",
       "    .dataframe tbody tr th:only-of-type {\n",
       "        vertical-align: middle;\n",
       "    }\n",
       "\n",
       "    .dataframe tbody tr th {\n",
       "        vertical-align: top;\n",
       "    }\n",
       "\n",
       "    .dataframe thead th {\n",
       "        text-align: right;\n",
       "    }\n",
       "</style>\n",
       "<table border=\"1\" class=\"dataframe\">\n",
       "  <thead>\n",
       "    <tr style=\"text-align: right;\">\n",
       "      <th></th>\n",
       "      <th>rotten_tomatoes_link</th>\n",
       "      <th>top_critic</th>\n",
       "      <th>review_type</th>\n",
       "      <th>review_rank</th>\n",
       "      <th>review_content</th>\n",
       "      <th>review_score</th>\n",
       "      <th>sentiment</th>\n",
       "      <th>polarity</th>\n",
       "      <th>subjectivity</th>\n",
       "    </tr>\n",
       "  </thead>\n",
       "  <tbody>\n",
       "    <tr>\n",
       "      <th>0</th>\n",
       "      <td>m/0814255</td>\n",
       "      <td>False</td>\n",
       "      <td>Rotten</td>\n",
       "      <td>D+</td>\n",
       "      <td>The premise of Percy Jackson &amp; the Olympians: ...</td>\n",
       "      <td>4</td>\n",
       "      <td>0</td>\n",
       "      <td>0.266667</td>\n",
       "      <td>0.916667</td>\n",
       "    </tr>\n",
       "    <tr>\n",
       "      <th>1</th>\n",
       "      <td>m/0878835</td>\n",
       "      <td>False</td>\n",
       "      <td>Fresh</td>\n",
       "      <td>A-</td>\n",
       "      <td>Funny at times, Please Give is a surprisingly ...</td>\n",
       "      <td>11</td>\n",
       "      <td>1</td>\n",
       "      <td>0.316667</td>\n",
       "      <td>0.700000</td>\n",
       "    </tr>\n",
       "    <tr>\n",
       "      <th>2</th>\n",
       "      <td>m/1000013-12_angry_men</td>\n",
       "      <td>False</td>\n",
       "      <td>Fresh</td>\n",
       "      <td>B</td>\n",
       "      <td>Lumet keeps things tense, sweaty, suspenseful ...</td>\n",
       "      <td>9</td>\n",
       "      <td>1</td>\n",
       "      <td>-0.083333</td>\n",
       "      <td>0.737500</td>\n",
       "    </tr>\n",
       "    <tr>\n",
       "      <th>3</th>\n",
       "      <td>m/1000013-12_angry_men</td>\n",
       "      <td>False</td>\n",
       "      <td>Fresh</td>\n",
       "      <td>A</td>\n",
       "      <td>This movie is a masterpiece. That term gets th...</td>\n",
       "      <td>12</td>\n",
       "      <td>1</td>\n",
       "      <td>0.620667</td>\n",
       "      <td>0.636000</td>\n",
       "    </tr>\n",
       "    <tr>\n",
       "      <th>4</th>\n",
       "      <td>m/1000079-20000_leagues_under_the_sea</td>\n",
       "      <td>False</td>\n",
       "      <td>Fresh</td>\n",
       "      <td>B+</td>\n",
       "      <td>A good one that could have been better with a ...</td>\n",
       "      <td>10</td>\n",
       "      <td>1</td>\n",
       "      <td>0.269167</td>\n",
       "      <td>0.433333</td>\n",
       "    </tr>\n",
       "  </tbody>\n",
       "</table>\n",
       "</div>"
      ],
      "text/plain": [
       "                    rotten_tomatoes_link  top_critic review_type review_rank  \\\n",
       "0                              m/0814255       False      Rotten          D+   \n",
       "1                              m/0878835       False       Fresh          A-   \n",
       "2                 m/1000013-12_angry_men       False       Fresh           B   \n",
       "3                 m/1000013-12_angry_men       False       Fresh           A   \n",
       "4  m/1000079-20000_leagues_under_the_sea       False       Fresh          B+   \n",
       "\n",
       "                                      review_content  review_score  sentiment  \\\n",
       "0  The premise of Percy Jackson & the Olympians: ...             4          0   \n",
       "1  Funny at times, Please Give is a surprisingly ...            11          1   \n",
       "2  Lumet keeps things tense, sweaty, suspenseful ...             9          1   \n",
       "3  This movie is a masterpiece. That term gets th...            12          1   \n",
       "4  A good one that could have been better with a ...            10          1   \n",
       "\n",
       "   polarity  subjectivity  \n",
       "0  0.266667      0.916667  \n",
       "1  0.316667      0.700000  \n",
       "2 -0.083333      0.737500  \n",
       "3  0.620667      0.636000  \n",
       "4  0.269167      0.433333  "
      ]
     },
     "metadata": {},
     "output_type": "display_data"
    }
   ],
   "source": [
    "polarity_list = []\n",
    "subjectivity_list = []\n",
    "for row in df['review_content']:\n",
    "    polarity = TextBlob(row).polarity\n",
    "    polarity_list.append(polarity)\n",
    "    subjectivity = TextBlob(row).subjectivity\n",
    "    subjectivity_list.append(subjectivity)\n",
    "    \n",
    "df['polarity'] = polarity_list\n",
    "df['subjectivity'] = subjectivity_list\n",
    "display(df.head(5))"
   ]
  },
  {
   "cell_type": "code",
   "execution_count": 7,
   "metadata": {},
   "outputs": [
    {
     "data": {
      "text/plain": [
       "<matplotlib.collections.PathCollection at 0x1574c5d0730>"
      ]
     },
     "execution_count": 7,
     "metadata": {},
     "output_type": "execute_result"
    },
    {
     "data": {
      "image/png": "[encoded data removed]",
      "text/plain": [
       "<Figure size 432x288 with 1 Axes>"
      ]
     },
     "metadata": {
      "needs_background": "light"
     },
     "output_type": "display_data"
    }
   ],
   "source": [
    "import matplotlib.pyplot as plt\n",
    "plt.xlabel(\"polarity\")\n",
    "plt.ylabel(\"subjectivity\")\n",
    "plt.scatter(df['polarity'],df['subjectivity'], marker='o', facecolors='none', edgecolors='blue')"
   ]
  },
  {
   "cell_type": "code",
   "execution_count": 8,
   "metadata": {},
   "outputs": [
    {
     "data": {
      "text/html": [
       "<div>\n",
       "<style scoped>\n",
       "    .dataframe tbody tr th:only-of-type {\n",
       "        vertical-align: middle;\n",
       "    }\n",
       "\n",
       "    .dataframe tbody tr th {\n",
       "        vertical-align: top;\n",
       "    }\n",
       "\n",
       "    .dataframe thead th {\n",
       "        text-align: right;\n",
       "    }\n",
       "</style>\n",
       "<table border=\"1\" class=\"dataframe\">\n",
       "  <thead>\n",
       "    <tr style=\"text-align: right;\">\n",
       "      <th></th>\n",
       "      <th>rotten_tomatoes_link</th>\n",
       "      <th>top_critic</th>\n",
       "      <th>review_type</th>\n",
       "      <th>review_rank</th>\n",
       "      <th>review_content</th>\n",
       "      <th>review_score</th>\n",
       "      <th>sentiment</th>\n",
       "      <th>polarity</th>\n",
       "      <th>subjectivity</th>\n",
       "    </tr>\n",
       "  </thead>\n",
       "  <tbody>\n",
       "    <tr>\n",
       "      <th>1</th>\n",
       "      <td>m/0878835</td>\n",
       "      <td>False</td>\n",
       "      <td>Fresh</td>\n",
       "      <td>A-</td>\n",
       "      <td>Funny at times, Please Give is a surprisingly ...</td>\n",
       "      <td>11</td>\n",
       "      <td>1</td>\n",
       "      <td>0.316667</td>\n",
       "      <td>0.700000</td>\n",
       "    </tr>\n",
       "    <tr>\n",
       "      <th>2</th>\n",
       "      <td>m/1000013-12_angry_men</td>\n",
       "      <td>False</td>\n",
       "      <td>Fresh</td>\n",
       "      <td>B</td>\n",
       "      <td>Lumet keeps things tense, sweaty, suspenseful ...</td>\n",
       "      <td>9</td>\n",
       "      <td>1</td>\n",
       "      <td>-0.083333</td>\n",
       "      <td>0.737500</td>\n",
       "    </tr>\n",
       "    <tr>\n",
       "      <th>3</th>\n",
       "      <td>m/1000013-12_angry_men</td>\n",
       "      <td>False</td>\n",
       "      <td>Fresh</td>\n",
       "      <td>A</td>\n",
       "      <td>This movie is a masterpiece. That term gets th...</td>\n",
       "      <td>12</td>\n",
       "      <td>1</td>\n",
       "      <td>0.620667</td>\n",
       "      <td>0.636000</td>\n",
       "    </tr>\n",
       "    <tr>\n",
       "      <th>4</th>\n",
       "      <td>m/1000079-20000_leagues_under_the_sea</td>\n",
       "      <td>False</td>\n",
       "      <td>Fresh</td>\n",
       "      <td>B+</td>\n",
       "      <td>A good one that could have been better with a ...</td>\n",
       "      <td>10</td>\n",
       "      <td>1</td>\n",
       "      <td>0.269167</td>\n",
       "      <td>0.433333</td>\n",
       "    </tr>\n",
       "    <tr>\n",
       "      <th>5</th>\n",
       "      <td>m/10000_bc</td>\n",
       "      <td>False</td>\n",
       "      <td>Rotten</td>\n",
       "      <td>F</td>\n",
       "      <td>Nothing more than a standard boy meets girl, b...</td>\n",
       "      <td>1</td>\n",
       "      <td>0</td>\n",
       "      <td>0.066667</td>\n",
       "      <td>0.200000</td>\n",
       "    </tr>\n",
       "  </tbody>\n",
       "</table>\n",
       "</div>"
      ],
      "text/plain": [
       "                    rotten_tomatoes_link  top_critic review_type review_rank  \\\n",
       "1                              m/0878835       False       Fresh          A-   \n",
       "2                 m/1000013-12_angry_men       False       Fresh           B   \n",
       "3                 m/1000013-12_angry_men       False       Fresh           A   \n",
       "4  m/1000079-20000_leagues_under_the_sea       False       Fresh          B+   \n",
       "5                             m/10000_bc       False      Rotten           F   \n",
       "\n",
       "                                      review_content  review_score  sentiment  \\\n",
       "1  Funny at times, Please Give is a surprisingly ...            11          1   \n",
       "2  Lumet keeps things tense, sweaty, suspenseful ...             9          1   \n",
       "3  This movie is a masterpiece. That term gets th...            12          1   \n",
       "4  A good one that could have been better with a ...            10          1   \n",
       "5  Nothing more than a standard boy meets girl, b...             1          0   \n",
       "\n",
       "   polarity  subjectivity  \n",
       "1  0.316667      0.700000  \n",
       "2 -0.083333      0.737500  \n",
       "3  0.620667      0.636000  \n",
       "4  0.269167      0.433333  \n",
       "5  0.066667      0.200000  "
      ]
     },
     "metadata": {},
     "output_type": "display_data"
    }
   ],
   "source": [
    "df2 = df[df['subjectivity']<=0.8]\n",
    "display(df2.head(5))"
   ]
  },
  {
   "cell_type": "code",
   "execution_count": 9,
   "metadata": {},
   "outputs": [
    {
     "data": {
      "text/html": [
       "<div>\n",
       "<style scoped>\n",
       "    .dataframe tbody tr th:only-of-type {\n",
       "        vertical-align: middle;\n",
       "    }\n",
       "\n",
       "    .dataframe tbody tr th {\n",
       "        vertical-align: top;\n",
       "    }\n",
       "\n",
       "    .dataframe thead th {\n",
       "        text-align: right;\n",
       "    }\n",
       "</style>\n",
       "<table border=\"1\" class=\"dataframe\">\n",
       "  <thead>\n",
       "    <tr style=\"text-align: right;\">\n",
       "      <th></th>\n",
       "      <th>min</th>\n",
       "      <th>max</th>\n",
       "      <th>score_mean</th>\n",
       "      <th>polarity_mean</th>\n",
       "      <th>count</th>\n",
       "    </tr>\n",
       "    <tr>\n",
       "      <th>rotten_tomatoes_link</th>\n",
       "      <th></th>\n",
       "      <th></th>\n",
       "      <th></th>\n",
       "      <th></th>\n",
       "      <th></th>\n",
       "    </tr>\n",
       "  </thead>\n",
       "  <tbody>\n",
       "    <tr>\n",
       "      <th>m/+_one_2019</th>\n",
       "      <td>8</td>\n",
       "      <td>9</td>\n",
       "      <td>8.6</td>\n",
       "      <td>0.194952</td>\n",
       "      <td>5</td>\n",
       "    </tr>\n",
       "    <tr>\n",
       "      <th>m/+h</th>\n",
       "      <td>3</td>\n",
       "      <td>10</td>\n",
       "      <td>6.5</td>\n",
       "      <td>0.213214</td>\n",
       "      <td>2</td>\n",
       "    </tr>\n",
       "    <tr>\n",
       "      <th>m/0878835</th>\n",
       "      <td>11</td>\n",
       "      <td>11</td>\n",
       "      <td>11.0</td>\n",
       "      <td>0.316667</td>\n",
       "      <td>1</td>\n",
       "    </tr>\n",
       "  </tbody>\n",
       "</table>\n",
       "</div>"
      ],
      "text/plain": [
       "                      min  max  score_mean  polarity_mean  count\n",
       "rotten_tomatoes_link                                            \n",
       "m/+_one_2019            8    9         8.6       0.194952      5\n",
       "m/+h                    3   10         6.5       0.213214      2\n",
       "m/0878835              11   11        11.0       0.316667      1"
      ]
     },
     "metadata": {},
     "output_type": "display_data"
    }
   ],
   "source": [
    "new_df = df2.groupby('rotten_tomatoes_link')['review_score'].agg([min, max])\n",
    "new_df['score_mean'] = df2.groupby('rotten_tomatoes_link')['review_score'].mean()\n",
    "new_df['polarity_mean'] = df2.groupby('rotten_tomatoes_link')['polarity'].mean()\n",
    "new_df['count'] = df2.groupby('rotten_tomatoes_link')['review_score'].count()\n",
    "display(new_df.head(3))"
   ]
  },
  {
   "cell_type": "code",
   "execution_count": 10,
   "metadata": {},
   "outputs": [],
   "source": [
    "df_filtered = new_df[new_df['count']>=2]"
   ]
  },
  {
   "cell_type": "code",
   "execution_count": 11,
   "metadata": {},
   "outputs": [
    {
     "data": {
      "text/html": [
       "<div>\n",
       "<style scoped>\n",
       "    .dataframe tbody tr th:only-of-type {\n",
       "        vertical-align: middle;\n",
       "    }\n",
       "\n",
       "    .dataframe tbody tr th {\n",
       "        vertical-align: top;\n",
       "    }\n",
       "\n",
       "    .dataframe thead th {\n",
       "        text-align: right;\n",
       "    }\n",
       "</style>\n",
       "<table border=\"1\" class=\"dataframe\">\n",
       "  <thead>\n",
       "    <tr style=\"text-align: right;\">\n",
       "      <th></th>\n",
       "      <th>min</th>\n",
       "      <th>max</th>\n",
       "      <th>score_mean</th>\n",
       "      <th>polarity_mean</th>\n",
       "      <th>count</th>\n",
       "    </tr>\n",
       "    <tr>\n",
       "      <th>rotten_tomatoes_link</th>\n",
       "      <th></th>\n",
       "      <th></th>\n",
       "      <th></th>\n",
       "      <th></th>\n",
       "      <th></th>\n",
       "    </tr>\n",
       "  </thead>\n",
       "  <tbody>\n",
       "    <tr>\n",
       "      <th>m/+_one_2019</th>\n",
       "      <td>8</td>\n",
       "      <td>9</td>\n",
       "      <td>8.600000</td>\n",
       "      <td>0.194952</td>\n",
       "      <td>5</td>\n",
       "    </tr>\n",
       "    <tr>\n",
       "      <th>m/+h</th>\n",
       "      <td>3</td>\n",
       "      <td>10</td>\n",
       "      <td>6.500000</td>\n",
       "      <td>0.213214</td>\n",
       "      <td>2</td>\n",
       "    </tr>\n",
       "    <tr>\n",
       "      <th>m/1000013-12_angry_men</th>\n",
       "      <td>9</td>\n",
       "      <td>12</td>\n",
       "      <td>10.500000</td>\n",
       "      <td>0.268667</td>\n",
       "      <td>2</td>\n",
       "    </tr>\n",
       "    <tr>\n",
       "      <th>m/1000640-all_of_me</th>\n",
       "      <td>6</td>\n",
       "      <td>12</td>\n",
       "      <td>9.333333</td>\n",
       "      <td>0.104167</td>\n",
       "      <td>3</td>\n",
       "    </tr>\n",
       "    <tr>\n",
       "      <th>m/10008601-fireflies_in_the_garden</th>\n",
       "      <td>3</td>\n",
       "      <td>8</td>\n",
       "      <td>6.000000</td>\n",
       "      <td>0.028333</td>\n",
       "      <td>3</td>\n",
       "    </tr>\n",
       "    <tr>\n",
       "      <th>...</th>\n",
       "      <td>...</td>\n",
       "      <td>...</td>\n",
       "      <td>...</td>\n",
       "      <td>...</td>\n",
       "      <td>...</td>\n",
       "    </tr>\n",
       "    <tr>\n",
       "      <th>m/top_gun</th>\n",
       "      <td>6</td>\n",
       "      <td>9</td>\n",
       "      <td>8.000000</td>\n",
       "      <td>0.012500</td>\n",
       "      <td>3</td>\n",
       "    </tr>\n",
       "    <tr>\n",
       "      <th>m/total_recall_2012</th>\n",
       "      <td>3</td>\n",
       "      <td>10</td>\n",
       "      <td>6.615385</td>\n",
       "      <td>0.109113</td>\n",
       "      <td>26</td>\n",
       "    </tr>\n",
       "    <tr>\n",
       "      <th>m/touchback</th>\n",
       "      <td>6</td>\n",
       "      <td>9</td>\n",
       "      <td>7.500000</td>\n",
       "      <td>0.095625</td>\n",
       "      <td>4</td>\n",
       "    </tr>\n",
       "    <tr>\n",
       "      <th>m/touched_with_fire_2016</th>\n",
       "      <td>6</td>\n",
       "      <td>10</td>\n",
       "      <td>7.888889</td>\n",
       "      <td>0.099072</td>\n",
       "      <td>9</td>\n",
       "    </tr>\n",
       "    <tr>\n",
       "      <th>m/touchy_feely_2013</th>\n",
       "      <td>5</td>\n",
       "      <td>10</td>\n",
       "      <td>7.428571</td>\n",
       "      <td>0.216468</td>\n",
       "      <td>7</td>\n",
       "    </tr>\n",
       "  </tbody>\n",
       "</table>\n",
       "<p>5067 rows × 5 columns</p>\n",
       "</div>"
      ],
      "text/plain": [
       "                                    min  max  score_mean  polarity_mean  count\n",
       "rotten_tomatoes_link                                                          \n",
       "m/+_one_2019                          8    9    8.600000       0.194952      5\n",
       "m/+h                                  3   10    6.500000       0.213214      2\n",
       "m/1000013-12_angry_men                9   12   10.500000       0.268667      2\n",
       "m/1000640-all_of_me                   6   12    9.333333       0.104167      3\n",
       "m/10008601-fireflies_in_the_garden    3    8    6.000000       0.028333      3\n",
       "...                                 ...  ...         ...            ...    ...\n",
       "m/top_gun                             6    9    8.000000       0.012500      3\n",
       "m/total_recall_2012                   3   10    6.615385       0.109113     26\n",
       "m/touchback                           6    9    7.500000       0.095625      4\n",
       "m/touched_with_fire_2016              6   10    7.888889       0.099072      9\n",
       "m/touchy_feely_2013                   5   10    7.428571       0.216468      7\n",
       "\n",
       "[5067 rows x 5 columns]"
      ]
     },
     "execution_count": 11,
     "metadata": {},
     "output_type": "execute_result"
    }
   ],
   "source": [
    "pd.DataFrame(df_filtered)"
   ]
  },
  {
   "cell_type": "code",
   "execution_count": 12,
   "metadata": {},
   "outputs": [
    {
     "data": {
      "text/plain": [
       "<matplotlib.collections.PathCollection at 0x1574ce99b80>"
      ]
     },
     "execution_count": 12,
     "metadata": {},
     "output_type": "execute_result"
    },
    {
     "data": {
      "image/png": "[encoded data removed]",
      "text/plain": [
       "<Figure size 432x288 with 1 Axes>"
      ]
     },
     "metadata": {
      "needs_background": "light"
     },
     "output_type": "display_data"
    }
   ],
   "source": [
    "plt.xlabel(\"polarity_mean\")\n",
    "plt.ylabel(\"score_mean\")\n",
    "plt.scatter(df_filtered['polarity_mean'],df_filtered['score_mean'], marker='o', facecolors='none', edgecolors='blue')"
   ]
  },
  {
   "cell_type": "markdown",
   "metadata": {},
   "source": [
    "## Classification models"
   ]
  },
  {
   "cell_type": "code",
   "execution_count": 13,
   "metadata": {},
   "outputs": [
    {
     "data": {
      "text/html": [
       "<div>\n",
       "<style scoped>\n",
       "    .dataframe tbody tr th:only-of-type {\n",
       "        vertical-align: middle;\n",
       "    }\n",
       "\n",
       "    .dataframe tbody tr th {\n",
       "        vertical-align: top;\n",
       "    }\n",
       "\n",
       "    .dataframe thead th {\n",
       "        text-align: right;\n",
       "    }\n",
       "</style>\n",
       "<table border=\"1\" class=\"dataframe\">\n",
       "  <thead>\n",
       "    <tr style=\"text-align: right;\">\n",
       "      <th></th>\n",
       "      <th>review_content</th>\n",
       "      <th>sentiment</th>\n",
       "    </tr>\n",
       "  </thead>\n",
       "  <tbody>\n",
       "    <tr>\n",
       "      <th>0</th>\n",
       "      <td>The premise of Percy Jackson &amp; the Olympians: ...</td>\n",
       "      <td>0</td>\n",
       "    </tr>\n",
       "    <tr>\n",
       "      <th>1</th>\n",
       "      <td>Funny at times, Please Give is a surprisingly ...</td>\n",
       "      <td>1</td>\n",
       "    </tr>\n",
       "    <tr>\n",
       "      <th>2</th>\n",
       "      <td>Lumet keeps things tense, sweaty, suspenseful ...</td>\n",
       "      <td>1</td>\n",
       "    </tr>\n",
       "    <tr>\n",
       "      <th>3</th>\n",
       "      <td>This movie is a masterpiece. That term gets th...</td>\n",
       "      <td>1</td>\n",
       "    </tr>\n",
       "    <tr>\n",
       "      <th>4</th>\n",
       "      <td>A good one that could have been better with a ...</td>\n",
       "      <td>1</td>\n",
       "    </tr>\n",
       "  </tbody>\n",
       "</table>\n",
       "</div>"
      ],
      "text/plain": [
       "                                      review_content  sentiment\n",
       "0  The premise of Percy Jackson & the Olympians: ...          0\n",
       "1  Funny at times, Please Give is a surprisingly ...          1\n",
       "2  Lumet keeps things tense, sweaty, suspenseful ...          1\n",
       "3  This movie is a masterpiece. That term gets th...          1\n",
       "4  A good one that could have been better with a ...          1"
      ]
     },
     "execution_count": 13,
     "metadata": {},
     "output_type": "execute_result"
    }
   ],
   "source": [
    "review_df = df[['review_content','sentiment']]\n",
    "review_df.head()"
   ]
  },
  {
   "cell_type": "code",
   "execution_count": 14,
   "metadata": {},
   "outputs": [
    {
     "data": {
      "text/plain": [
       "1    38922\n",
       "0    20576\n",
       "Name: sentiment, dtype: int64"
      ]
     },
     "execution_count": 14,
     "metadata": {},
     "output_type": "execute_result"
    }
   ],
   "source": [
    "review_df['sentiment'].value_counts()"
   ]
  },
  {
   "cell_type": "code",
   "execution_count": 15,
   "metadata": {},
   "outputs": [
    {
     "name": "stdout",
     "output_type": "stream",
     "text": [
      "(42000,) (42000,)\n",
      "(17498,) (17498,)\n"
     ]
    }
   ],
   "source": [
    "#split the dataset  \n",
    "#train dataset\n",
    "training_reviews = review_df.review_content[:42000]\n",
    "training_sentiment = review_df.sentiment[:42000]\n",
    "#test dataset\n",
    "testing_reviews = review_df.review_content[42000:]\n",
    "testing_sentiment = review_df.sentiment[42000:]\n",
    "\n",
    "print(training_reviews.shape, training_sentiment.shape)\n",
    "print(testing_reviews.shape, testing_sentiment.shape)"
   ]
  },
  {
   "cell_type": "code",
   "execution_count": 16,
   "metadata": {},
   "outputs": [
    {
     "name": "stderr",
     "output_type": "stream",
     "text": [
      "[nltk_data] Downloading package stopwords to\n",
      "[nltk_data]     C:\\Users\\Tiffany\\AppData\\Roaming\\nltk_data...\n",
      "[nltk_data]   Package stopwords is already up-to-date!\n"
     ]
    },
    {
     "data": {
      "text/plain": [
       "True"
      ]
     },
     "execution_count": 16,
     "metadata": {},
     "output_type": "execute_result"
    }
   ],
   "source": [
    "import nltk\n",
    "from nltk.tokenize.toktok import ToktokTokenizer\n",
    "from nltk.corpus import stopwords\n",
    "from bs4 import BeautifulSoup\n",
    "from sklearn.feature_extraction.text import CountVectorizer\n",
    "from sklearn.feature_extraction.text import TfidfVectorizer\n",
    "from sklearn.preprocessing import LabelBinarizer\n",
    "nltk.download('stopwords')"
   ]
  },
  {
   "cell_type": "code",
   "execution_count": 17,
   "metadata": {},
   "outputs": [],
   "source": [
    "#Tokenization of text\n",
    "tokenizer=ToktokTokenizer()\n",
    "#Setting English stopwords\n",
    "stopword_list=nltk.corpus.stopwords.words('english')"
   ]
  },
  {
   "cell_type": "code",
   "execution_count": 18,
   "metadata": {},
   "outputs": [],
   "source": [
    "#Removing the html strips\n",
    "def strip_html(text):\n",
    "    soup = BeautifulSoup(text, \"html.parser\")\n",
    "    return soup.get_text()\n",
    "\n",
    "#Removing the square brackets\n",
    "def remove_between_square_brackets(text):\n",
    "    return re.sub('\\[[^]]*\\]', '', text)\n",
    "\n",
    "#Removing the noisy text\n",
    "def denoise_text(text):\n",
    "    text = strip_html(text)\n",
    "    text = remove_between_square_brackets(text)\n",
    "    return text\n",
    "\n",
    "#Apply function on review column\n",
    "review_df['review_content'] = review_df['review_content'].apply(denoise_text)"
   ]
  },
  {
   "cell_type": "code",
   "execution_count": 19,
   "metadata": {},
   "outputs": [
    {
     "name": "stdout",
     "output_type": "stream",
     "text": [
      "{'her', 'did', 'after', 'any', 'all', 't', 'or', 'o', 'whom', 'shouldn', 'here', 'he', 'no', 'those', 'if', 'while', 'hasn', 'very', 'most', 'than', \"shouldn't\", 'yours', 'only', 'mightn', \"that'll\", 'be', 'few', 's', 'was', 'hadn', 'does', 'y', 'having', 'until', 'don', \"hadn't\", 'can', 'that', 'through', 'over', 'once', 'again', 'had', \"haven't\", 'the', 'what', 'these', 'there', 'haven', \"should've\", \"wouldn't\", 'yourself', 'itself', 'mustn', 'am', 'we', 'other', 'its', 'were', \"mightn't\", 'wouldn', 'you', 'won', 'my', 'wasn', 're', 'nor', \"weren't\", \"you're\", 'a', 'just', 'she', 'couldn', \"you'd\", 'because', 'will', 'should', 'down', 'aren', 'they', 'into', 'him', 'hers', 'how', 'with', \"wasn't\", 'so', 'on', 'doing', 'during', 'against', 'both', 'now', 'which', 'needn', 'do', 'me', 'didn', 'why', 'from', 'in', 'some', 'at', \"mustn't\", 'who', 'between', 'is', \"needn't\", 'for', 'shan', 'ours', 'herself', 'been', 'under', \"she's\", 'ourselves', 'this', 'further', 'their', 'own', 'about', 'm', 'to', 'ma', \"hasn't\", 'myself', 'are', 'and', 'more', 'then', 'of', 'weren', 'not', 'each', \"doesn't\", 'too', 'his', 'being', 'off', 'when', \"don't\", 'before', 'above', 'have', 'theirs', \"didn't\", \"you've\", \"it's\", 'an', 'ain', 'doesn', 'd', 'themselves', 'it', 'below', 'such', 'isn', \"shan't\", 'but', 'out', 'where', \"isn't\", \"won't\", 'i', 'll', 'your', 'has', \"couldn't\", 'up', 'them', 've', 'himself', 'our', \"you'll\", 'as', 'same', \"aren't\", 'yourselves', 'by'}\n"
     ]
    }
   ],
   "source": [
    "#set stopwords to english\n",
    "stop=set(stopwords.words('english'))\n",
    "print(stop)"
   ]
  },
  {
   "cell_type": "code",
   "execution_count": 20,
   "metadata": {},
   "outputs": [
    {
     "data": {
      "text/plain": [
       "'The premise of Percy Jackson & the Olympians: The Lightning Thief holds great potential potential the film never realizes.'"
      ]
     },
     "execution_count": 20,
     "metadata": {},
     "output_type": "execute_result"
    }
   ],
   "source": [
    "#normalized train reviews\n",
    "norm_train_reviews=review_df.review_content[:42000]\n",
    "norm_train_reviews[0]"
   ]
  },
  {
   "cell_type": "code",
   "execution_count": 21,
   "metadata": {},
   "outputs": [
    {
     "data": {
      "text/plain": [
       "'The Force Awakens is meant to honour the past and lead us into a new narrative future. It feels like what people feel a Star Wars film is supposed to feel like. The Force is strong with this one.'"
      ]
     },
     "execution_count": 21,
     "metadata": {},
     "output_type": "execute_result"
    }
   ],
   "source": [
    "#Normalized test reviews\n",
    "norm_test_reviews=review_df.review_content[42000:]\n",
    "norm_test_reviews[45005]"
   ]
  },
  {
   "cell_type": "code",
   "execution_count": 22,
   "metadata": {},
   "outputs": [
    {
     "name": "stdout",
     "output_type": "stream",
     "text": [
      "BOW_cv_train: (42000, 784448)\n",
      "BOW_cv_test: (17498, 784448)\n"
     ]
    }
   ],
   "source": [
    "#Count vectorizer for bag of words\n",
    "cv=CountVectorizer(min_df=0,max_df=1,binary=False,ngram_range=(1,3))\n",
    "#transformed train reviews\n",
    "cv_train_reviews=cv.fit_transform(norm_train_reviews)\n",
    "#transformed test reviews\n",
    "cv_test_reviews=cv.transform(norm_test_reviews)\n",
    "\n",
    "print('BOW_cv_train:',cv_train_reviews.shape)\n",
    "print('BOW_cv_test:',cv_test_reviews.shape)\n",
    "#vocab=cv.get_feature_names()-toget feature names"
   ]
  },
  {
   "cell_type": "code",
   "execution_count": 23,
   "metadata": {},
   "outputs": [
    {
     "name": "stdout",
     "output_type": "stream",
     "text": [
      "Tfidf_train: (42000, 784448)\n",
      "Tfidf_test: (17498, 784448)\n"
     ]
    }
   ],
   "source": [
    "#Tfidf vectorizer\n",
    "tv=TfidfVectorizer(min_df=0,max_df=1,use_idf=True,ngram_range=(1,3))\n",
    "#transformed train reviews\n",
    "tv_train_reviews=tv.fit_transform(norm_train_reviews)\n",
    "#transformed test reviews\n",
    "tv_test_reviews=tv.transform(norm_test_reviews)\n",
    "print('Tfidf_train:',tv_train_reviews.shape)\n",
    "print('Tfidf_test:',tv_test_reviews.shape)"
   ]
  },
  {
   "cell_type": "code",
   "execution_count": 24,
   "metadata": {},
   "outputs": [
    {
     "name": "stdout",
     "output_type": "stream",
     "text": [
      "(59498, 1)\n"
     ]
    }
   ],
   "source": [
    "#labeling the sentient data\n",
    "lb=LabelBinarizer()\n",
    "#transformed sentiment data\n",
    "sentiment_data=lb.fit_transform(review_df['sentiment'])\n",
    "print(sentiment_data.shape)"
   ]
  },
  {
   "cell_type": "code",
   "execution_count": 25,
   "metadata": {},
   "outputs": [
    {
     "name": "stdout",
     "output_type": "stream",
     "text": [
      "[[0]\n",
      " [1]\n",
      " [1]\n",
      " ...\n",
      " [0]\n",
      " [0]\n",
      " [1]]\n",
      "[[1]\n",
      " [1]\n",
      " [1]\n",
      " ...\n",
      " [0]\n",
      " [0]\n",
      " [1]]\n"
     ]
    }
   ],
   "source": [
    "#Spliting the sentiment data\n",
    "train_sentiments=sentiment_data[:42000]\n",
    "test_sentiments=sentiment_data[42000:]\n",
    "print(train_sentiments)\n",
    "print(test_sentiments)"
   ]
  },
  {
   "cell_type": "code",
   "execution_count": 26,
   "metadata": {},
   "outputs": [],
   "source": [
    "from sklearn.linear_model import LogisticRegression,SGDClassifier\n",
    "from sklearn.metrics import classification_report,confusion_matrix,accuracy_score,roc_auc_score\n",
    "from sklearn.naive_bayes import MultinomialNB\n",
    "from sklearn.neighbors import KNeighborsClassifier\n",
    "from sklearn.model_selection import cross_val_score\n",
    "from sklearn.model_selection import GridSearchCV\n",
    "from sklearn.model_selection import KFold\n",
    "from sklearn import feature_selection\n",
    "from sklearn import model_selection\n",
    "from sklearn import metrics\n",
    "from sklearn.metrics import auc, roc_auc_score, roc_curve\n",
    "from sklearn.metrics import confusion_matrix\n",
    "from sklearn.metrics import ConfusionMatrixDisplay"
   ]
  },
  {
   "cell_type": "code",
   "execution_count": 27,
   "metadata": {},
   "outputs": [
    {
     "name": "stdout",
     "output_type": "stream",
     "text": [
      "KNeighborsClassifier(n_neighbors=3)\n",
      "KNeighborsClassifier(n_neighbors=3)\n"
     ]
    }
   ],
   "source": [
    "knn = KNeighborsClassifier(n_neighbors=3)\n",
    "knn_bow = knn.fit(cv_train_reviews,train_sentiments)\n",
    "print(knn_bow)\n",
    "knn_tfidf = knn.fit(tv_train_reviews,train_sentiments)\n",
    "print(knn_tfidf)"
   ]
  },
  {
   "cell_type": "code",
   "execution_count": 28,
   "metadata": {},
   "outputs": [
    {
     "name": "stdout",
     "output_type": "stream",
     "text": [
      "[1 1 1 ... 1 1 1]\n",
      "[1 1 1 ... 1 1 1]\n",
      "[1 1 1 ... 1 1 1]\n",
      "[1 1 1 ... 1 1 1]\n"
     ]
    }
   ],
   "source": [
    "#Predicting the model for bag of words\n",
    "knn_bow_predict=knn.predict(cv_test_reviews)\n",
    "print(knn_bow_predict)\n",
    "##Predicting the model for tfidf features\n",
    "knn_tfidf_predict=knn.predict(tv_test_reviews)\n",
    "print(knn_tfidf_predict)\n",
    "\n",
    "#Training y_pred\n",
    "#Predicting the model for bag of words\n",
    "knn_bow_predict_train=knn.predict(cv_train_reviews)\n",
    "print(knn_bow_predict_train)\n",
    "#Predicting the model for tfidf features\n",
    "knn_tfidf_predict_train=knn.predict(tv_train_reviews)\n",
    "print(knn_tfidf_predict_train)"
   ]
  },
  {
   "cell_type": "code",
   "execution_count": 29,
   "metadata": {},
   "outputs": [
    {
     "name": "stdout",
     "output_type": "stream",
     "text": [
      "knn_bow_score : 0.646073837009944\n",
      "knn_tfidf_score : 0.6457880900674363\n",
      "knn_bow_score : 0.6576666666666666\n",
      "knn_tfidf_score : 0.6576666666666666\n"
     ]
    }
   ],
   "source": [
    "#Accuracy score for bag of words\n",
    "knn_bow_score=accuracy_score(test_sentiments,knn_bow_predict)\n",
    "print(\"knn_bow_score :\",knn_bow_score)\n",
    "#Accuracy score for tfidf features\n",
    "knn_tfidf_score=accuracy_score(test_sentiments,knn_tfidf_predict)\n",
    "print(\"knn_tfidf_score :\",knn_tfidf_score)\n",
    "\n",
    "#Training Accuracy score\n",
    "#Accuracy score for bag of words\n",
    "knn_bow_score_train=accuracy_score(train_sentiments,knn_bow_predict_train)\n",
    "print(\"knn_bow_score :\",knn_bow_score_train)\n",
    "#Accuracy score for tfidf features\n",
    "knn_tfidf_score_train=accuracy_score(train_sentiments,knn_tfidf_predict_train)\n",
    "print(\"knn_tfidf_score :\",knn_tfidf_score_train)"
   ]
  },
  {
   "cell_type": "code",
   "execution_count": 30,
   "metadata": {},
   "outputs": [
    {
     "name": "stdout",
     "output_type": "stream",
     "text": [
      "auc_bow =  0.5005490495078344\n",
      "auc_tfidf =  0.5\n"
     ]
    }
   ],
   "source": [
    "auc_bow = roc_auc_score(test_sentiments,knn_bow_predict)\n",
    "print('auc_bow = ',auc_bow)\n",
    "\n",
    "auc_tfidf = roc_auc_score(test_sentiments,knn_tfidf_predict)\n",
    "print('auc_tfidf = ',auc_tfidf)"
   ]
  },
  {
   "cell_type": "code",
   "execution_count": 31,
   "metadata": {},
   "outputs": [
    {
     "name": "stdout",
     "output_type": "stream",
     "text": [
      "[[    9  6189]\n",
      " [    4 11296]]\n",
      "[[    0  6198]\n",
      " [    0 11300]]\n"
     ]
    },
    {
     "data": {
      "image/png": "[encoded data removed]",
      "text/plain": [
       "<Figure size 432x288 with 2 Axes>"
      ]
     },
     "metadata": {
      "needs_background": "light"
     },
     "output_type": "display_data"
    }
   ],
   "source": [
    "#confusion matrix for bag of words\n",
    "cm_bow=confusion_matrix(test_sentiments,knn_bow_predict,labels=[0,1])\n",
    "print(cm_bow)\n",
    "#confusion matrix for tfidf features\n",
    "cm_tfidf=confusion_matrix(test_sentiments,knn_tfidf_predict,labels=[0,1])\n",
    "print(cm_tfidf)\n",
    "\n",
    "\n",
    "disp_knn = ConfusionMatrixDisplay(confusion_matrix=cm_bow)\n",
    "disp_knn.plot()\n",
    "plt.title('K-nearest neighbors classifier')\n",
    "plt.show()"
   ]
  },
  {
   "cell_type": "code",
   "execution_count": 32,
   "metadata": {},
   "outputs": [
    {
     "name": "stdout",
     "output_type": "stream",
     "text": [
      "LogisticRegression(C=1, max_iter=500, random_state=42)\n",
      "LogisticRegression(C=1, max_iter=500, random_state=42)\n"
     ]
    }
   ],
   "source": [
    "#training the model\n",
    "lr=LogisticRegression(penalty='l2',max_iter=500,C=1,random_state=42)\n",
    "#Fitting the model for Bag of words\n",
    "lr_bow=lr.fit(cv_train_reviews,train_sentiments)\n",
    "print(lr_bow)\n",
    "#Fitting the model for tfidf features\n",
    "lr_tfidf=lr.fit(tv_train_reviews,train_sentiments)\n",
    "print(lr_tfidf)"
   ]
  },
  {
   "cell_type": "code",
   "execution_count": 33,
   "metadata": {},
   "outputs": [
    {
     "name": "stdout",
     "output_type": "stream",
     "text": [
      "[1 1 1 ... 1 1 1]\n",
      "[1 1 1 ... 1 1 1]\n",
      "[0 1 1 ... 1 1 1]\n",
      "[1 1 1 ... 1 1 1]\n"
     ]
    }
   ],
   "source": [
    "#Predicting the model for bag of words\n",
    "lr_bow_predict=lr.predict(cv_test_reviews)\n",
    "print(lr_bow_predict)\n",
    "##Predicting the model for tfidf features\n",
    "lr_tfidf_predict=lr.predict(tv_test_reviews)\n",
    "print(lr_tfidf_predict)\n",
    "\n",
    "#Training y_pred\n",
    "#Predicting the model for bag of words\n",
    "lr_bow_predict_train=lr.predict(cv_train_reviews)\n",
    "print(lr_bow_predict_train)\n",
    "##Predicting the model for tfidf features\n",
    "lr_tfidf_predict_train=lr.predict(tv_train_reviews)\n",
    "print(lr_tfidf_predict_train)"
   ]
  },
  {
   "cell_type": "code",
   "execution_count": 34,
   "metadata": {},
   "outputs": [
    {
     "name": "stdout",
     "output_type": "stream",
     "text": [
      "lr_bow_score : 0.6479026174419934\n",
      "lr_tfidf_score : 0.6457880900674363\n",
      "lr_bow_score_train : 0.9322142857142857\n",
      "lr_tfidf_score_train : 0.6576666666666666\n"
     ]
    }
   ],
   "source": [
    "#Accuracy score for bag of words\n",
    "lr_bow_score=accuracy_score(test_sentiments,lr_bow_predict)\n",
    "print(\"lr_bow_score :\",lr_bow_score)\n",
    "#Accuracy score for tfidf features\n",
    "lr_tfidf_score=accuracy_score(test_sentiments,lr_tfidf_predict)\n",
    "print(\"lr_tfidf_score :\",lr_tfidf_score)\n",
    "\n",
    "#Training data accuracy rate\n",
    "#Accuracy score for bag of words\n",
    "lr_bow_score_train=accuracy_score(train_sentiments,lr_bow_predict_train)\n",
    "print(\"lr_bow_score_train :\",lr_bow_score_train)\n",
    "#Accuracy score for tfidf features\n",
    "lr_tfidf_score_train=accuracy_score(train_sentiments,lr_tfidf_predict_train)\n",
    "print(\"lr_tfidf_score_train :\",lr_tfidf_score_train)"
   ]
  },
  {
   "cell_type": "code",
   "execution_count": 35,
   "metadata": {},
   "outputs": [
    {
     "name": "stdout",
     "output_type": "stream",
     "text": [
      "              precision    recall  f1-score   support\n",
      "\n",
      "    Positive       0.73      0.01      0.02      6198\n",
      "    Negative       0.65      1.00      0.79     11300\n",
      "\n",
      "    accuracy                           0.65     17498\n",
      "   macro avg       0.69      0.50      0.40     17498\n",
      "weighted avg       0.68      0.65      0.51     17498\n",
      "\n",
      "              precision    recall  f1-score   support\n",
      "\n",
      "    Positive       0.00      0.00      0.00      6198\n",
      "    Negative       0.65      1.00      0.78     11300\n",
      "\n",
      "    accuracy                           0.65     17498\n",
      "   macro avg       0.32      0.50      0.39     17498\n",
      "weighted avg       0.42      0.65      0.51     17498\n",
      "\n"
     ]
    }
   ],
   "source": [
    "#Classification report for bag of words \n",
    "lr_bow_report=classification_report(test_sentiments,lr_bow_predict,target_names=['Positive','Negative'])\n",
    "print(lr_bow_report)\n",
    "\n",
    "#Classification report for tfidf features\n",
    "lr_tfidf_report=classification_report(test_sentiments,lr_tfidf_predict,target_names=['Positive','Negative'])\n",
    "print(lr_tfidf_report)"
   ]
  },
  {
   "cell_type": "code",
   "execution_count": 36,
   "metadata": {},
   "outputs": [
    {
     "name": "stdout",
     "output_type": "stream",
     "text": [
      "[[   58  6140]\n",
      " [   21 11279]]\n",
      "[[    0  6198]\n",
      " [    0 11300]]\n"
     ]
    },
    {
     "data": {
      "image/png": "[encoded data removed]",
      "text/plain": [
       "<Figure size 432x288 with 2 Axes>"
      ]
     },
     "metadata": {
      "needs_background": "light"
     },
     "output_type": "display_data"
    }
   ],
   "source": [
    "#confusion matrix for bag of words\n",
    "cm_bow=confusion_matrix(test_sentiments,lr_bow_predict,labels=[0,1])\n",
    "print(cm_bow)\n",
    "#confusion matrix for tfidf features\n",
    "cm_tfidf=confusion_matrix(test_sentiments,lr_tfidf_predict,labels=[0,1])\n",
    "print(cm_tfidf)\n",
    "\n",
    "disp_lr = ConfusionMatrixDisplay(confusion_matrix=cm_bow)\n",
    "disp_lr.plot()\n",
    "plt.title('Logistic Regression')\n",
    "plt.show()"
   ]
  },
  {
   "cell_type": "code",
   "execution_count": 37,
   "metadata": {},
   "outputs": [
    {
     "name": "stdout",
     "output_type": "stream",
     "text": [
      "auc_bow =  0.5037497251468501\n",
      "auc_tfidf =  0.5\n"
     ]
    }
   ],
   "source": [
    "auc_bow = roc_auc_score(test_sentiments,lr_bow_predict)\n",
    "print('auc_bow = ',auc_bow)\n",
    "\n",
    "auc_tfidf = roc_auc_score(test_sentiments,lr_tfidf_predict)\n",
    "print('auc_tfidf = ',auc_tfidf)"
   ]
  },
  {
   "cell_type": "code",
   "execution_count": 38,
   "metadata": {},
   "outputs": [
    {
     "name": "stdout",
     "output_type": "stream",
     "text": [
      "SGDClassifier(max_iter=500, random_state=42)\n",
      "SGDClassifier(max_iter=500, random_state=42)\n"
     ]
    }
   ],
   "source": [
    "#training the linear svm\n",
    "svm=SGDClassifier(loss='hinge',max_iter=500,random_state=42)\n",
    "#fitting the svm for bag of words\n",
    "svm_bow=svm.fit(cv_train_reviews,train_sentiments)\n",
    "print(svm_bow)\n",
    "#fitting the svm for tfidf features\n",
    "svm_tfidf=svm.fit(tv_train_reviews,train_sentiments)\n",
    "print(svm_tfidf)"
   ]
  },
  {
   "cell_type": "code",
   "execution_count": 39,
   "metadata": {},
   "outputs": [
    {
     "name": "stdout",
     "output_type": "stream",
     "text": [
      "[1 1 1 ... 1 1 1]\n",
      "[1 1 1 ... 1 1 1]\n",
      "[0 1 1 ... 1 1 1]\n",
      "[1 1 1 ... 1 1 1]\n"
     ]
    }
   ],
   "source": [
    "#Predicting the model for bag of words\n",
    "svm_bow_predict=svm.predict(cv_test_reviews)\n",
    "print(svm_bow_predict)\n",
    "#Predicting the model for tfidf features\n",
    "svm_tfidf_predict=svm.predict(tv_test_reviews)\n",
    "print(svm_tfidf_predict)\n",
    "\n",
    "#training data y_pred\n",
    "#Predicting the model for bag of words\n",
    "svm_bow_predict_train=svm.predict(cv_train_reviews)\n",
    "print(svm_bow_predict_train)\n",
    "#Predicting the model for tfidf features\n",
    "svm_tfidf_predict_train=svm.predict(tv_train_reviews)\n",
    "print(svm_tfidf_predict_train)"
   ]
  },
  {
   "cell_type": "code",
   "execution_count": 40,
   "metadata": {},
   "outputs": [
    {
     "name": "stdout",
     "output_type": "stream",
     "text": [
      "svm_bow_score : 0.6457880900674363\n",
      "svm_tfidf_score : 0.6457880900674363\n",
      "svm_bow_score_train : 0.8617619047619047\n",
      "svm_tfidf_score_train : 0.6576666666666666\n"
     ]
    }
   ],
   "source": [
    "#Accuracy score for bag of words\n",
    "svm_bow_score=accuracy_score(test_sentiments,svm_bow_predict)\n",
    "print(\"svm_bow_score :\",svm_bow_score)\n",
    "#Accuracy score for tfidf features\n",
    "svm_tfidf_score=accuracy_score(test_sentiments,svm_tfidf_predict)\n",
    "print(\"svm_tfidf_score :\",svm_tfidf_score)\n",
    "\n",
    "#Training data accuracy rate\n",
    "#Accuracy score for bag of words\n",
    "svm_bow_score_train=accuracy_score(train_sentiments,svm_bow_predict_train)\n",
    "print(\"svm_bow_score_train :\",svm_bow_score_train)\n",
    "#Accuracy score for tfidf features\n",
    "svm_tfidf_score_train=accuracy_score(train_sentiments,svm_tfidf_predict_train)\n",
    "print(\"svm_tfidf_score_train :\",svm_tfidf_score_train)"
   ]
  },
  {
   "cell_type": "code",
   "execution_count": 41,
   "metadata": {},
   "outputs": [
    {
     "name": "stdout",
     "output_type": "stream",
     "text": [
      "              precision    recall  f1-score   support\n",
      "\n",
      "    Positive       0.00      0.00      0.00      6198\n",
      "    Negative       0.65      1.00      0.78     11300\n",
      "\n",
      "    accuracy                           0.65     17498\n",
      "   macro avg       0.32      0.50      0.39     17498\n",
      "weighted avg       0.42      0.65      0.51     17498\n",
      "\n",
      "              precision    recall  f1-score   support\n",
      "\n",
      "    Positive       0.00      0.00      0.00      6198\n",
      "    Negative       0.65      1.00      0.78     11300\n",
      "\n",
      "    accuracy                           0.65     17498\n",
      "   macro avg       0.32      0.50      0.39     17498\n",
      "weighted avg       0.42      0.65      0.51     17498\n",
      "\n"
     ]
    }
   ],
   "source": [
    "#Classification report for bag of words \n",
    "svm_bow_report=classification_report(test_sentiments,svm_bow_predict,target_names=['Positive','Negative'])\n",
    "print(svm_bow_report)\n",
    "#Classification report for tfidf features\n",
    "svm_tfidf_report=classification_report(test_sentiments,svm_tfidf_predict,target_names=['Positive','Negative'])\n",
    "print(svm_tfidf_report)"
   ]
  },
  {
   "cell_type": "code",
   "execution_count": 42,
   "metadata": {},
   "outputs": [
    {
     "name": "stdout",
     "output_type": "stream",
     "text": [
      "[[    0  6198]\n",
      " [    0 11300]]\n",
      "[[    0  6198]\n",
      " [    0 11300]]\n"
     ]
    },
    {
     "data": {
      "image/png": "[encoded data removed]",
      "text/plain": [
       "<Figure size 432x288 with 2 Axes>"
      ]
     },
     "metadata": {
      "needs_background": "light"
     },
     "output_type": "display_data"
    }
   ],
   "source": [
    "#confusion matrix for bag of words\n",
    "cm_bow=confusion_matrix(test_sentiments,svm_bow_predict,labels=[0,1])\n",
    "print(cm_bow)\n",
    "#confusion matrix for tfidf features\n",
    "cm_tfidf=confusion_matrix(test_sentiments,svm_tfidf_predict,labels=[0,1])\n",
    "print(cm_tfidf)\n",
    "\n",
    "disp_svm = ConfusionMatrixDisplay(confusion_matrix=cm_bow)\n",
    "disp_svm.plot()\n",
    "plt.title('SVM')\n",
    "plt.show()"
   ]
  },
  {
   "cell_type": "code",
   "execution_count": 43,
   "metadata": {},
   "outputs": [
    {
     "name": "stdout",
     "output_type": "stream",
     "text": [
      "auc_bow =  0.5\n",
      "auc_tfidf =  0.5\n"
     ]
    }
   ],
   "source": [
    "auc_bow = roc_auc_score(test_sentiments,svm_bow_predict)\n",
    "print('auc_bow = ',auc_bow)\n",
    "\n",
    "auc_tfidf = roc_auc_score(test_sentiments,svm_tfidf_predict)\n",
    "print('auc_tfidf = ',auc_tfidf)"
   ]
  },
  {
   "cell_type": "code",
   "execution_count": 44,
   "metadata": {},
   "outputs": [
    {
     "name": "stdout",
     "output_type": "stream",
     "text": [
      "MultinomialNB()\n",
      "MultinomialNB()\n"
     ]
    }
   ],
   "source": [
    "#training the model\n",
    "mnb=MultinomialNB()\n",
    "#fitting the svm for bag of words\n",
    "mnb_bow=mnb.fit(cv_train_reviews,train_sentiments)\n",
    "print(mnb_bow)\n",
    "#fitting the svm for tfidf features\n",
    "mnb_tfidf=mnb.fit(tv_train_reviews,train_sentiments)\n",
    "print(mnb_tfidf)"
   ]
  },
  {
   "cell_type": "code",
   "execution_count": 45,
   "metadata": {},
   "outputs": [
    {
     "name": "stdout",
     "output_type": "stream",
     "text": [
      "[1 1 1 ... 1 1 1]\n",
      "[1 1 1 ... 1 1 1]\n",
      "[0 1 1 ... 1 1 1]\n",
      "[0 1 1 ... 1 1 1]\n"
     ]
    }
   ],
   "source": [
    "#Predicting the model for bag of words\n",
    "mnb_bow_predict=mnb.predict(cv_test_reviews)\n",
    "print(mnb_bow_predict)\n",
    "#Predicting the model for tfidf features\n",
    "mnb_tfidf_predict=mnb.predict(tv_test_reviews)\n",
    "print(mnb_tfidf_predict)\n",
    "\n",
    "#Training data y_pred\n",
    "#Predicting the model for bag of words\n",
    "mnb_bow_predict_train=mnb.predict(cv_train_reviews)\n",
    "print(mnb_bow_predict_train)\n",
    "#Predicting the model for tfidf features\n",
    "mnb_tfidf_predict_train=mnb.predict(tv_train_reviews)\n",
    "print(mnb_tfidf_predict_train)"
   ]
  },
  {
   "cell_type": "code",
   "execution_count": 46,
   "metadata": {},
   "outputs": [
    {
     "name": "stdout",
     "output_type": "stream",
     "text": [
      "mnb_bow_score : 0.6567607726597325\n",
      "mnb_tfidf_score : 0.6472739741684764\n",
      "mnb_bow_score_train : 0.9337857142857143\n",
      "mnb_tfidf_score_train : 0.9337857142857143\n"
     ]
    }
   ],
   "source": [
    "#Accuracy score for bag of words\n",
    "mnb_bow_score=accuracy_score(test_sentiments,mnb_bow_predict)\n",
    "print(\"mnb_bow_score :\",mnb_bow_score)\n",
    "#Accuracy score for tfidf features\n",
    "mnb_tfidf_score=accuracy_score(test_sentiments,mnb_tfidf_predict)\n",
    "print(\"mnb_tfidf_score :\",mnb_tfidf_score)\n",
    "\n",
    "#Training data accuracy rate\n",
    "#Accuracy score for bag of words\n",
    "mnb_bow_score_train=accuracy_score(train_sentiments,mnb_bow_predict_train)\n",
    "print(\"mnb_bow_score_train :\",mnb_bow_score_train)\n",
    "#Accuracy score for tfidf features\n",
    "mnb_tfidf_score_train=accuracy_score(train_sentiments,mnb_tfidf_predict_train)\n",
    "print(\"mnb_tfidf_score_train :\",mnb_tfidf_score_train)"
   ]
  },
  {
   "cell_type": "code",
   "execution_count": 47,
   "metadata": {},
   "outputs": [
    {
     "name": "stdout",
     "output_type": "stream",
     "text": [
      "              precision    recall  f1-score   support\n",
      "\n",
      "    Positive       0.58      0.11      0.18      6198\n",
      "    Negative       0.66      0.96      0.78     11300\n",
      "\n",
      "    accuracy                           0.66     17498\n",
      "   macro avg       0.62      0.53      0.48     17498\n",
      "weighted avg       0.63      0.66      0.57     17498\n",
      "\n",
      "              precision    recall  f1-score   support\n",
      "\n",
      "    Positive       0.86      0.01      0.01      6198\n",
      "    Negative       0.65      1.00      0.79     11300\n",
      "\n",
      "    accuracy                           0.65     17498\n",
      "   macro avg       0.75      0.50      0.40     17498\n",
      "weighted avg       0.72      0.65      0.51     17498\n",
      "\n"
     ]
    }
   ],
   "source": [
    "#Classification report for bag of words \n",
    "mnb_bow_report=classification_report(test_sentiments,mnb_bow_predict,target_names=['Positive','Negative'])\n",
    "print(mnb_bow_report)\n",
    "#Classification report for tfidf features\n",
    "mnb_tfidf_report=classification_report(test_sentiments,mnb_tfidf_predict,target_names=['Positive','Negative'])\n",
    "print(mnb_tfidf_report)"
   ]
  },
  {
   "cell_type": "code",
   "execution_count": 48,
   "metadata": {},
   "outputs": [
    {
     "name": "stdout",
     "output_type": "stream",
     "text": [
      "[[  667  5531]\n",
      " [  475 10825]]\n",
      "[[   31  6167]\n",
      " [    5 11295]]\n"
     ]
    },
    {
     "data": {
      "image/png": "[encoded data removed]",
      "text/plain": [
       "<Figure size 432x288 with 2 Axes>"
      ]
     },
     "metadata": {
      "needs_background": "light"
     },
     "output_type": "display_data"
    }
   ],
   "source": [
    "#confusion matrix for bag of words\n",
    "cm_bow=confusion_matrix(test_sentiments,mnb_bow_predict,labels=[0,1])\n",
    "print(cm_bow)\n",
    "#confusion matrix for tfidf features\n",
    "cm_tfidf=confusion_matrix(test_sentiments,mnb_tfidf_predict,labels=[0,1])\n",
    "print(cm_tfidf)\n",
    "\n",
    "disp_mnb = ConfusionMatrixDisplay(confusion_matrix=cm_bow)\n",
    "disp_mnb.plot()\n",
    "plt.title('Multinomial Naïve Bayes')\n",
    "plt.show()"
   ]
  },
  {
   "cell_type": "code",
   "execution_count": 49,
   "metadata": {},
   "outputs": [
    {
     "name": "stdout",
     "output_type": "stream",
     "text": [
      "auc_bow =  0.5327899807816966\n",
      "auc_tfidf =  0.5022795677737895\n"
     ]
    }
   ],
   "source": [
    "auc_bow = roc_auc_score(test_sentiments,mnb_bow_predict)\n",
    "print('auc_bow = ',auc_bow)\n",
    "\n",
    "auc_tfidf = roc_auc_score(test_sentiments,mnb_tfidf_predict)\n",
    "print('auc_tfidf = ',auc_tfidf)"
   ]
  },
  {
   "cell_type": "code",
   "execution_count": 50,
   "metadata": {},
   "outputs": [],
   "source": [
    "from wordcloud import WordCloud"
   ]
  },
  {
   "cell_type": "code",
   "execution_count": 51,
   "metadata": {
    "scrolled": true
   },
   "outputs": [
    {
     "data": {
      "text/plain": [
       "<function matplotlib.pyplot.show(close=None, block=None)>"
      ]
     },
     "execution_count": 51,
     "metadata": {},
     "output_type": "execute_result"
    },
    {
     "data": {
      "image/png": "[encoded data removed]",
      "text/plain": [
       "<Figure size 720x720 with 1 Axes>"
      ]
     },
     "metadata": {
      "needs_background": "light"
     },
     "output_type": "display_data"
    }
   ],
   "source": [
    "#word cloud for positive review words\n",
    "plt.figure(figsize=(10,10))\n",
    "positive_text=norm_train_reviews[1]\n",
    "WC=WordCloud(width=1000,height=500,max_words=500,min_font_size=5)\n",
    "positive_words=WC.generate(positive_text)\n",
    "plt.imshow(positive_words,interpolation='bilinear')\n",
    "plt.show"
   ]
  },
  {
   "cell_type": "code",
   "execution_count": 52,
   "metadata": {},
   "outputs": [
    {
     "data": {
      "text/plain": [
       "<function matplotlib.pyplot.show(close=None, block=None)>"
      ]
     },
     "execution_count": 52,
     "metadata": {},
     "output_type": "execute_result"
    },
    {
     "data": {
      "image/png": "[encoded data removed]",
      "text/plain": [
       "<Figure size 720x720 with 1 Axes>"
      ]
     },
     "metadata": {
      "needs_background": "light"
     },
     "output_type": "display_data"
    }
   ],
   "source": [
    "#Word cloud for negative review words\n",
    "plt.figure(figsize=(10,10))\n",
    "negative_text=norm_train_reviews[8]\n",
    "WC=WordCloud(width=1000,height=500,max_words=500,min_font_size=5)\n",
    "negative_words=WC.generate(negative_text)\n",
    "plt.imshow(negative_words,interpolation='bilinear')\n",
    "plt.show"
   ]
  },
  {
   "cell_type": "code",
   "execution_count": null,
   "metadata": {},
   "outputs": [],
   "source": []
  }
 ],
 "metadata": {
  "kernelspec": {
   "display_name": "Python 3",
   "language": "python",
   "name": "python3"
  },
  "language_info": {
   "codemirror_mode": {
    "name": "ipython",
    "version": 3
   },
   "file_extension": ".py",
   "mimetype": "text/x-python",
   "name": "python",
   "nbconvert_exporter": "python",
   "pygments_lexer": "ipython3",
   "version": "3.8.5"
  }
 },
 "nbformat": 4,
 "nbformat_minor": 4
}
